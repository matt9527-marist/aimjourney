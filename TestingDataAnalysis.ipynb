{
 "cells": [
  {
   "cell_type": "code",
   "execution_count": 11,
   "metadata": {},
   "outputs": [
    {
     "name": "stdout",
     "output_type": "stream",
     "text": [
      "Correct responses added to Column D in ChatData.xlsx\n"
     ]
    }
   ],
   "source": [
    "import openpyxl\n",
    "\n",
    "# Load the correct responses from CORRECT-RESPONSES.txt\n",
    "correct_responses_path = 'testing/CORRECT-RESPONSES.txt'\n",
    "with open(correct_responses_path, 'r') as file:\n",
    "    correct_responses = file.read().split('\\n\\n')  # Split by double line breaks (paragraphs)\n",
    "\n",
    "# Load the spreadsheet\n",
    "spreadsheet_path = 'ChatData.xlsx'  # Update with your actual Excel file path\n",
    "workbook = openpyxl.load_workbook(spreadsheet_path)\n",
    "sheet = workbook.active  # Assuming the correct sheet is the active one\n",
    "\n",
    "# Ensure we don't skip rows, assuming row 1 has headers\n",
    "for row, response in enumerate(correct_responses, start=2):\n",
    "    sheet.cell(row=row, column=4).value = response  # Column D is the 4th column\n",
    "\n",
    "# Save the updated spreadsheet\n",
    "workbook.save(spreadsheet_path)\n",
    "\n",
    "print(f\"Correct responses added to Column D in {spreadsheet_path}\")\n"
   ]
  }
 ],
 "metadata": {
  "kernelspec": {
   "display_name": "Python 3",
   "language": "python",
   "name": "python3"
  },
  "language_info": {
   "codemirror_mode": {
    "name": "ipython",
    "version": 3
   },
   "file_extension": ".py",
   "mimetype": "text/x-python",
   "name": "python",
   "nbconvert_exporter": "python",
   "pygments_lexer": "ipython3",
   "version": "3.11.9"
  }
 },
 "nbformat": 4,
 "nbformat_minor": 2
}
